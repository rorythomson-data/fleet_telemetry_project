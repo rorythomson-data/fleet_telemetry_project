{
 "cells": [
  {
   "cell_type": "markdown",
   "id": "6ffc3551",
   "metadata": {},
   "source": [
    "# 📘 01_Preprocessing_and_EDA.ipynb"
   ]
  },
  {
   "cell_type": "code",
   "execution_count": null,
   "id": "d9ef2895",
   "metadata": {},
   "outputs": [],
   "source": [
    "import pandas as pd\n",
    "import numpy as np\n",
    "import matplotlib.pyplot as plt\n",
    "import seaborn as sns\n",
    "import folium\n",
    "from ast import literal_eval"
   ]
  },
  {
   "cell_type": "code",
   "execution_count": null,
   "id": "b6fb56d6",
   "metadata": {},
   "outputs": [],
   "source": [
    "list_columns = [...]\n",
    "\n",
    "# Load dataset\n",
    "df = pd.read_csv('fleet_telemetry_dataset_advanced_v2.csv', converters={col: literal_eval for col in list_columns})\n",
    "print(\"✅ Dataset loaded. Shape:\", df.shape)"
   ]
  },
  {
   "cell_type": "code",
   "execution_count": null,
   "id": "323d8d49",
   "metadata": {},
   "outputs": [],
   "source": [
    "# EDA prompts, dataset inspection, duplicates, timestamps, geospatial, plots, observations"
   ]
  }
 ],
 "metadata": {},
 "nbformat": 4,
 "nbformat_minor": 5
}
